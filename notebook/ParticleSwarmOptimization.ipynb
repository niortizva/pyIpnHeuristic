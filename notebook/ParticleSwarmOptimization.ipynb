{
 "cells": [
  {
   "cell_type": "markdown",
   "id": "ddc80276-29e5-4f64-9762-a09e8b2b5c30",
   "metadata": {},
   "source": [
    "# Particle Swarm Optimization\n",
    "\n",
    "let $\\mathbb{X}^{t} = \\left\\lbrace \\mathbf{x}_1^{t},\\ldots,\\mathbf{x}_n^{t} \\right\\rbrace$ the population at time $t$, $f: \\mathbb{X} \\rightarrow \\mathbb{R}$ the objective function, $g_i(x) \\leq 0$ for $i=1,2,\\ldots,m_1$ the soft restrictions and $h_i(x) = 0$ for $i=1,2,\\ldots,m_2$ the hard restrictions of an optimization problem. Initialize the velocity for each particle as $\\mathbf{v}_{i,j}^{0} = U\\left[ - \\left|\\sup \\mathbf{x}_{(\\cdot,j)} - \\inf \\mathbf{x}_{(\\cdot,j)}\\right|, \\left| \\sup \\mathbf{x}_{(\\cdot,j)} - \\inf \\mathbf{x}_{(\\cdot,j)} \\right| \\right]$. Set $\\omega, c_1, c_2 \\in [0, 1]$.\n",
    "\n",
    "For each $\\mathbf{x}_{i}^{t} \\in \\mathbb{X}^{t}$:\n",
    "\n",
    "1. Update velocity as follows: $\\mathbf{v}_{i}^{t+1} = \\omega \\mathbf{v}_{i} + c_1 r_1 (\\mathbf{p}_{i}^{t} - \\mathbf{x}_{i}^{t}) + c_2 r_2 (\\mathbf{g}^{t} - \\mathbf{x}_{i}^{t})$ where $r_1, r_2 \\sim U[0, 1]$, $\\mathbf{p}_{i}^{t}$ denotes the best known particle for the $i$-th particle and $\\mathbf{g}^{t}$ denotes the best known position for the entire swarm (population).\n",
    "\n",
    "4. **Selection**:\n",
    "$$\\mathbf{x}_{i}^{t+1} = \\left\\lbrace \\begin{array}{l l}\n",
    "\\mathbf{p}_{i}^{t} & \\text{DEB}(\\mathbf{p}_i^{t}, \\mathbf{x}_i^{t}) = \\mathbf{p}_{i}^{t} \\\\\n",
    "\\mathbf{x}_{i}^{t} & \\text{otherwise} \\end{array}\\right.$$\n",
    "\n",
    "    Where $\\text{DEB}(\\cdot,\\cdot)$ returns the best value between $\\mathbf{p}_i^{t}$ and $\\mathbf{x}_i^{t}$ according to DEB conditions."
   ]
  },
  {
   "cell_type": "code",
   "execution_count": 1,
   "id": "b6b04394-62f4-48ef-9dd9-bd4df6a7fa67",
   "metadata": {},
   "outputs": [
    {
     "data": {
      "text/markdown": [
       "## Problem G06:\n",
       "Minimize: \n",
       "$$f(\\mathbf{x}) = (x_1 - 10)^3 + (x_2 - 20)^3$$\n",
       "subject to:\n",
       "$$g_1(\\mathbf{x}) = -(x_1-5)^2 - (x_2-5)^2 + 100 \\leq 0 $$\n",
       "$$g_2(\\mathbf{x}) = (x_1-6)^2 + (x_2-5)^2 - 82.81 \\leq 0 $$\n",
       "where: $13 \\leq x_1 \\leq 100$, $0 \\leq x_2 \\leq 100$"
      ]
     },
     "metadata": {},
     "output_type": "display_data"
    },
    {
     "data": {
      "text/markdown": [
       "$\\mathbf{x}_{best}$: [14.095, 0.8429607892154796], $f(\\mathbf{x}_{best})$: -6961.813875580138, ranges: [[13, 100], [0, 100]]"
      ]
     },
     "metadata": {},
     "output_type": "display_data"
    }
   ],
   "source": [
    "from IPython.display import display_markdown\n",
    "from pyIpnHeuristic.benchmark import get_pg06\n",
    "\n",
    "problem_parameters = get_pg06()\n",
    "\n",
    "objective_function = problem_parameters.get(\"objective_function\")\n",
    "g = problem_parameters.get(\"gx\")\n",
    "h = problem_parameters.get(\"hx\")\n",
    "ranges = problem_parameters.get(\"ranges\")\n",
    "markdown = problem_parameters.get(\"markdown\")\n",
    "x_best = problem_parameters.get(\"x\")\n",
    "fx_best = problem_parameters.get(\"fx\")\n",
    "\n",
    "display_markdown(markdown, raw=True)\n",
    "display_markdown(\"$\\mathbf{{x}}_{{best}}$: {}, $f(\\mathbf{{x}}_{{best}})$: {}, ranges: {}\".format(x_best, fx_best, ranges), raw=True)"
   ]
  },
  {
   "cell_type": "markdown",
   "id": "911a57d7-0618-4fd0-a3a6-699e738eecc5",
   "metadata": {},
   "source": [
    "## Initialize Particle Swarm Optimization (PSO)"
   ]
  },
  {
   "cell_type": "code",
   "execution_count": 8,
   "id": "43a75d81-de74-4b53-8da2-dbbcb23673a7",
   "metadata": {},
   "outputs": [],
   "source": [
    "from pyIpnHeuristic.particleSwarmOptimization import ParticleSwarmOptimization\n",
    "\n",
    "population_size = 5\n",
    "\n",
    "particleSwarmOptimization = ParticleSwarmOptimization(\n",
    "    objective_function,\n",
    "    soft_constrains=g,\n",
    "    hard_constrains=h,\n",
    "    ranges=ranges,\n",
    "    population_size=population_size,\n",
    "    smooth=False,\n",
    "    epsilon=10**-4,\n",
    "    w=0.3,\n",
    "    c1=0.1,\n",
    "    c2=1.9\n",
    ")\n",
    "\n",
    "particleSwarmOptimization.search(iterations=200000, save_history=True)"
   ]
  },
  {
   "cell_type": "markdown",
   "id": "2bfaac61-bed5-450e-be03-9462e57a6891",
   "metadata": {},
   "source": [
    "## Results"
   ]
  },
  {
   "cell_type": "code",
   "execution_count": 9,
   "id": "947d560c-ef76-4a64-81e7-5a397b4537e3",
   "metadata": {},
   "outputs": [
    {
     "data": {
      "text/html": [
       "<div>\n",
       "<style scoped>\n",
       "    .dataframe tbody tr th:only-of-type {\n",
       "        vertical-align: middle;\n",
       "    }\n",
       "\n",
       "    .dataframe tbody tr th {\n",
       "        vertical-align: top;\n",
       "    }\n",
       "\n",
       "    .dataframe thead th {\n",
       "        text-align: right;\n",
       "    }\n",
       "</style>\n",
       "<table border=\"1\" class=\"dataframe\">\n",
       "  <thead>\n",
       "    <tr style=\"text-align: right;\">\n",
       "      <th></th>\n",
       "      <th>x</th>\n",
       "      <th>fx</th>\n",
       "      <th>gx</th>\n",
       "      <th>hx</th>\n",
       "      <th>iteration</th>\n",
       "      <th>||xi-X||</th>\n",
       "      <th>fxi - Fx</th>\n",
       "    </tr>\n",
       "  </thead>\n",
       "  <tbody>\n",
       "    <tr>\n",
       "      <th>0</th>\n",
       "      <td>[13.813266034547492, 9.72506880489351]</td>\n",
       "      <td>-1029.319061</td>\n",
       "      <td>0.563468</td>\n",
       "      <td>0</td>\n",
       "      <td>200000</td>\n",
       "      <td>8.886575</td>\n",
       "      <td>5932.494814</td>\n",
       "    </tr>\n",
       "    <tr>\n",
       "      <th>1</th>\n",
       "      <td>[13.813266034547492, 9.72506880489351]</td>\n",
       "      <td>-1029.319061</td>\n",
       "      <td>0.563468</td>\n",
       "      <td>0</td>\n",
       "      <td>199999</td>\n",
       "      <td>8.886575</td>\n",
       "      <td>5932.494814</td>\n",
       "    </tr>\n",
       "    <tr>\n",
       "      <th>2</th>\n",
       "      <td>[13.813266034547492, 9.72506880489351]</td>\n",
       "      <td>-1029.319061</td>\n",
       "      <td>0.563468</td>\n",
       "      <td>0</td>\n",
       "      <td>199998</td>\n",
       "      <td>8.886575</td>\n",
       "      <td>5932.494814</td>\n",
       "    </tr>\n",
       "    <tr>\n",
       "      <th>3</th>\n",
       "      <td>[13.813266034547492, 9.72506880489351]</td>\n",
       "      <td>-1029.319061</td>\n",
       "      <td>0.563468</td>\n",
       "      <td>0</td>\n",
       "      <td>199997</td>\n",
       "      <td>8.886575</td>\n",
       "      <td>5932.494814</td>\n",
       "    </tr>\n",
       "    <tr>\n",
       "      <th>4</th>\n",
       "      <td>[13.813266034547492, 9.72506880489351]</td>\n",
       "      <td>-1029.319061</td>\n",
       "      <td>0.563468</td>\n",
       "      <td>0</td>\n",
       "      <td>199996</td>\n",
       "      <td>8.886575</td>\n",
       "      <td>5932.494814</td>\n",
       "    </tr>\n",
       "    <tr>\n",
       "      <th>...</th>\n",
       "      <td>...</td>\n",
       "      <td>...</td>\n",
       "      <td>...</td>\n",
       "      <td>...</td>\n",
       "      <td>...</td>\n",
       "      <td>...</td>\n",
       "      <td>...</td>\n",
       "    </tr>\n",
       "    <tr>\n",
       "      <th>199995</th>\n",
       "      <td>[13.169110996731884, 18.449895304367157]</td>\n",
       "      <td>28.103590</td>\n",
       "      <td>149.485836</td>\n",
       "      <td>0</td>\n",
       "      <td>5</td>\n",
       "      <td>17.631262</td>\n",
       "      <td>6989.917466</td>\n",
       "    </tr>\n",
       "    <tr>\n",
       "      <th>199996</th>\n",
       "      <td>[15.780697681542966, 18.982190149397688]</td>\n",
       "      <td>192.116099</td>\n",
       "      <td>208.353689</td>\n",
       "      <td>0</td>\n",
       "      <td>4</td>\n",
       "      <td>18.217388</td>\n",
       "      <td>7153.929975</td>\n",
       "    </tr>\n",
       "    <tr>\n",
       "      <th>199997</th>\n",
       "      <td>[21.498120989158476, 20.810979060019278]</td>\n",
       "      <td>1520.662995</td>\n",
       "      <td>407.368813</td>\n",
       "      <td>0</td>\n",
       "      <td>3</td>\n",
       "      <td>21.296196</td>\n",
       "      <td>8482.476870</td>\n",
       "    </tr>\n",
       "    <tr>\n",
       "      <th>199998</th>\n",
       "      <td>[21.34147468479464, 29.457634980969576]</td>\n",
       "      <td>2304.798839</td>\n",
       "      <td>750.726754</td>\n",
       "      <td>0</td>\n",
       "      <td>2</td>\n",
       "      <td>29.517977</td>\n",
       "      <td>9266.612714</td>\n",
       "    </tr>\n",
       "    <tr>\n",
       "      <th>199999</th>\n",
       "      <td>[34.41052573113205, 35.27305846842648]</td>\n",
       "      <td>18108.281976</td>\n",
       "      <td>1640.806041</td>\n",
       "      <td>0</td>\n",
       "      <td>1</td>\n",
       "      <td>39.976896</td>\n",
       "      <td>25070.095852</td>\n",
       "    </tr>\n",
       "  </tbody>\n",
       "</table>\n",
       "<p>200000 rows × 7 columns</p>\n",
       "</div>"
      ],
      "text/plain": [
       "                                               x            fx           gx  \\\n",
       "0         [13.813266034547492, 9.72506880489351]  -1029.319061     0.563468   \n",
       "1         [13.813266034547492, 9.72506880489351]  -1029.319061     0.563468   \n",
       "2         [13.813266034547492, 9.72506880489351]  -1029.319061     0.563468   \n",
       "3         [13.813266034547492, 9.72506880489351]  -1029.319061     0.563468   \n",
       "4         [13.813266034547492, 9.72506880489351]  -1029.319061     0.563468   \n",
       "...                                          ...           ...          ...   \n",
       "199995  [13.169110996731884, 18.449895304367157]     28.103590   149.485836   \n",
       "199996  [15.780697681542966, 18.982190149397688]    192.116099   208.353689   \n",
       "199997  [21.498120989158476, 20.810979060019278]   1520.662995   407.368813   \n",
       "199998   [21.34147468479464, 29.457634980969576]   2304.798839   750.726754   \n",
       "199999    [34.41052573113205, 35.27305846842648]  18108.281976  1640.806041   \n",
       "\n",
       "        hx  iteration   ||xi-X||      fxi - Fx  \n",
       "0        0     200000   8.886575   5932.494814  \n",
       "1        0     199999   8.886575   5932.494814  \n",
       "2        0     199998   8.886575   5932.494814  \n",
       "3        0     199997   8.886575   5932.494814  \n",
       "4        0     199996   8.886575   5932.494814  \n",
       "...     ..        ...        ...           ...  \n",
       "199995   0          5  17.631262   6989.917466  \n",
       "199996   0          4  18.217388   7153.929975  \n",
       "199997   0          3  21.296196   8482.476870  \n",
       "199998   0          2  29.517977   9266.612714  \n",
       "199999   0          1  39.976896  25070.095852  \n",
       "\n",
       "[200000 rows x 7 columns]"
      ]
     },
     "execution_count": 9,
     "metadata": {},
     "output_type": "execute_result"
    }
   ],
   "source": [
    "import pandas as pd\n",
    "import numpy as np\n",
    "\n",
    "pd.DataFrame(\n",
    "    sorted([{**hist, \n",
    "             \"||xi-X||\": np.linalg.norm(np.array(hist[\"x\"]) - x_best),\n",
    "             \"fxi - Fx\": hist[\"fx\"] - fx_best} \n",
    "            for hist in particleSwarmOptimization.history], key=lambda x: x[\"iteration\"], reverse=True)\n",
    ")"
   ]
  },
  {
   "cell_type": "code",
   "execution_count": 10,
   "id": "45a94afe-f943-459f-94eb-b36f29bb429e",
   "metadata": {},
   "outputs": [
    {
     "data": {
      "image/png": "[encoded data removed]",
      "text/plain": [
       "<Figure size 1000x1000 with 3 Axes>"
      ]
     },
     "metadata": {},
     "output_type": "display_data"
    }
   ],
   "source": [
    "from _display import display_performance_results\n",
    "\n",
    "rich_history = [{**hist, \"||xi-X||\": np.linalg.norm(np.array(hist[\"x\"]) - x_best),\n",
    "  \"fxi - Fx\": hist[\"fx\"] - fx_best} for hist in particleSwarmOptimization.history]\n",
    "display_performance_results(rich_history)"
   ]
  },
  {
   "cell_type": "code",
   "execution_count": null,
   "id": "af9226c0-eab1-4d55-88e8-e10f0ee1d82a",
   "metadata": {},
   "outputs": [],
   "source": []
  }
 ],
 "metadata": {
  "kernelspec": {
   "display_name": "Python 3 (ipykernel)",
   "language": "python",
   "name": "python3"
  },
  "language_info": {
   "codemirror_mode": {
    "name": "ipython",
    "version": 3
   },
   "file_extension": ".py",
   "mimetype": "text/x-python",
   "name": "python",
   "nbconvert_exporter": "python",
   "pygments_lexer": "ipython3",
   "version": "3.8.10"
  },
  "toc-autonumbering": false
 },
 "nbformat": 4,
 "nbformat_minor": 5
}

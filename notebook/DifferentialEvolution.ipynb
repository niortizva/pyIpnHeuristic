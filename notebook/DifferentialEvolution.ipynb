{
 "cells": [
  {
   "cell_type": "markdown",
   "id": "60a7b476-82bc-4cde-8334-41f2a2612a27",
   "metadata": {},
   "source": [
    "## Differential Evolution"
   ]
  },
  {
   "cell_type": "code",
   "execution_count": 10,
   "id": "5ad29cb3-dc0a-42e2-99ae-85ea649556c7",
   "metadata": {},
   "outputs": [
    {
     "data": {
      "text/markdown": [
       "## Problem G06:\n",
       "Minimize: \n",
       "$$f(\\mathbf{x}) = (x_1 - 10)^3 + (x_2 - 20)^3$$\n",
       "subject to:\n",
       "$$g_1(\\mathbf{x}) = -(x_1-5)^2 - (x_2-5)^2 + 100 \\leq 0 $$\n",
       "$$g_2(\\mathbf{x}) = (x_1-6)^2 + (x_2-5)^2 - 82.81 \\leq 0 $$\n",
       "where: $13 \\leq x_1 \\leq 100$, $0 \\leq x_2 \\leq 100$"
      ]
     },
     "metadata": {},
     "output_type": "display_data"
    }
   ],
   "source": [
    "from IPython.display import display_markdown\n",
    "from pyIpnHeuristic.benchmark import get_pg06\n",
    "\n",
    "problem_parameters = get_pg06()\n",
    "\n",
    "objective_function = problem_parameters.get(\"objective_function\")\n",
    "g = problem_parameters.get(\"gx\")\n",
    "h = problem_parameters.get(\"hx\")\n",
    "ranges = problem_parameters.get(\"ranges\")\n",
    "markdown = problem_parameters.get(\"markdown\")\n",
    "x_best = problem_parameters.get(\"x\")\n",
    "fx_best = problem_parameters.get(\"fx\")\n",
    "\n",
    "display_markdown(markdown, raw=True)"
   ]
  },
  {
   "cell_type": "markdown",
   "id": "a4a6cfdd-0ab4-40ce-bd34-9cd0e7da3e6e",
   "metadata": {},
   "source": [
    "## Initialize Differential Evolution"
   ]
  },
  {
   "cell_type": "code",
   "execution_count": 16,
   "id": "66389642-e07b-46b7-b742-e57c513be2e2",
   "metadata": {},
   "outputs": [],
   "source": [
    "from pyIpnHeuristic.differentialEvolution import DifferentialEvolution\n",
    "\n",
    "differentialEvolution = DifferentialEvolution(\n",
    "    objective_function,\n",
    "    soft_constrains=g,\n",
    "    hard_constrains=h,\n",
    "    ranges=ranges,\n",
    "    population_size=4,\n",
    "    smooth=False,\n",
    "    epsilon=10**-4,\n",
    "    f=0.9,\n",
    "    cr=0.8,\n",
    ")\n",
    "\n",
    "differentialEvolution.search(iterations=100000, save_history=True)"
   ]
  },
  {
   "cell_type": "markdown",
   "id": "e330edd9-85cc-44a0-8424-7a338f3d6d54",
   "metadata": {},
   "source": [
    "## Results"
   ]
  },
  {
   "cell_type": "code",
   "execution_count": 17,
   "id": "6781d7bd-ddbc-4b1e-ac3b-3c3a80ac6580",
   "metadata": {},
   "outputs": [
    {
     "data": {
      "text/html": [
       "<div>\n",
       "<style scoped>\n",
       "    .dataframe tbody tr th:only-of-type {\n",
       "        vertical-align: middle;\n",
       "    }\n",
       "\n",
       "    .dataframe tbody tr th {\n",
       "        vertical-align: top;\n",
       "    }\n",
       "\n",
       "    .dataframe thead th {\n",
       "        text-align: right;\n",
       "    }\n",
       "</style>\n",
       "<table border=\"1\" class=\"dataframe\">\n",
       "  <thead>\n",
       "    <tr style=\"text-align: right;\">\n",
       "      <th></th>\n",
       "      <th>x</th>\n",
       "      <th>fx</th>\n",
       "      <th>gx</th>\n",
       "      <th>hx</th>\n",
       "      <th>iteration</th>\n",
       "      <th>||xi-X||</th>\n",
       "      <th>fxi - Fx</th>\n",
       "    </tr>\n",
       "  </thead>\n",
       "  <tbody>\n",
       "    <tr>\n",
       "      <th>0</th>\n",
       "      <td>[14.094999999999988, 0.8429607892154539]</td>\n",
       "      <td>-6961.813876</td>\n",
       "      <td>0.000000</td>\n",
       "      <td>0</td>\n",
       "      <td>100000</td>\n",
       "      <td>2.850161e-14</td>\n",
       "      <td>-2.819434e-11</td>\n",
       "    </tr>\n",
       "    <tr>\n",
       "      <th>1</th>\n",
       "      <td>[14.094999999999988, 0.8429607892154539]</td>\n",
       "      <td>-6961.813876</td>\n",
       "      <td>0.000000</td>\n",
       "      <td>0</td>\n",
       "      <td>99999</td>\n",
       "      <td>2.850161e-14</td>\n",
       "      <td>-2.819434e-11</td>\n",
       "    </tr>\n",
       "    <tr>\n",
       "      <th>2</th>\n",
       "      <td>[14.094999999999988, 0.8429607892154539]</td>\n",
       "      <td>-6961.813876</td>\n",
       "      <td>0.000000</td>\n",
       "      <td>0</td>\n",
       "      <td>99998</td>\n",
       "      <td>2.850161e-14</td>\n",
       "      <td>-2.819434e-11</td>\n",
       "    </tr>\n",
       "    <tr>\n",
       "      <th>3</th>\n",
       "      <td>[14.094999999999988, 0.8429607892154539]</td>\n",
       "      <td>-6961.813876</td>\n",
       "      <td>0.000000</td>\n",
       "      <td>0</td>\n",
       "      <td>99997</td>\n",
       "      <td>2.850161e-14</td>\n",
       "      <td>-2.819434e-11</td>\n",
       "    </tr>\n",
       "    <tr>\n",
       "      <th>4</th>\n",
       "      <td>[14.094999999999988, 0.8429607892154539]</td>\n",
       "      <td>-6961.813876</td>\n",
       "      <td>0.000000</td>\n",
       "      <td>0</td>\n",
       "      <td>99996</td>\n",
       "      <td>2.850161e-14</td>\n",
       "      <td>-2.819434e-11</td>\n",
       "    </tr>\n",
       "    <tr>\n",
       "      <th>...</th>\n",
       "      <td>...</td>\n",
       "      <td>...</td>\n",
       "      <td>...</td>\n",
       "      <td>...</td>\n",
       "      <td>...</td>\n",
       "      <td>...</td>\n",
       "      <td>...</td>\n",
       "    </tr>\n",
       "    <tr>\n",
       "      <th>99995</th>\n",
       "      <td>[15.766955467937883, 23.568703678686408]</td>\n",
       "      <td>237.245856</td>\n",
       "      <td>357.380175</td>\n",
       "      <td>0</td>\n",
       "      <td>5</td>\n",
       "      <td>2.278716e+01</td>\n",
       "      <td>7.199060e+03</td>\n",
       "    </tr>\n",
       "    <tr>\n",
       "      <th>99996</th>\n",
       "      <td>[15.766955467937883, 23.568703678686408]</td>\n",
       "      <td>237.245856</td>\n",
       "      <td>357.380175</td>\n",
       "      <td>0</td>\n",
       "      <td>4</td>\n",
       "      <td>2.278716e+01</td>\n",
       "      <td>7.199060e+03</td>\n",
       "    </tr>\n",
       "    <tr>\n",
       "      <th>99997</th>\n",
       "      <td>[15.766955467937883, 23.568703678686408]</td>\n",
       "      <td>237.245856</td>\n",
       "      <td>357.380175</td>\n",
       "      <td>0</td>\n",
       "      <td>3</td>\n",
       "      <td>2.278716e+01</td>\n",
       "      <td>7.199060e+03</td>\n",
       "    </tr>\n",
       "    <tr>\n",
       "      <th>99998</th>\n",
       "      <td>[26.287387279122168, 36.981957966730036]</td>\n",
       "      <td>9218.075708</td>\n",
       "      <td>1351.613718</td>\n",
       "      <td>0</td>\n",
       "      <td>2</td>\n",
       "      <td>3.814029e+01</td>\n",
       "      <td>1.617989e+04</td>\n",
       "    </tr>\n",
       "    <tr>\n",
       "      <th>99999</th>\n",
       "      <td>[36.29094747232372, 4.487596599302424]</td>\n",
       "      <td>14439.846930</td>\n",
       "      <td>834.994056</td>\n",
       "      <td>0</td>\n",
       "      <td>1</td>\n",
       "      <td>2.249319e+01</td>\n",
       "      <td>2.140166e+04</td>\n",
       "    </tr>\n",
       "  </tbody>\n",
       "</table>\n",
       "<p>100000 rows × 7 columns</p>\n",
       "</div>"
      ],
      "text/plain": [
       "                                              x            fx           gx  \\\n",
       "0      [14.094999999999988, 0.8429607892154539]  -6961.813876     0.000000   \n",
       "1      [14.094999999999988, 0.8429607892154539]  -6961.813876     0.000000   \n",
       "2      [14.094999999999988, 0.8429607892154539]  -6961.813876     0.000000   \n",
       "3      [14.094999999999988, 0.8429607892154539]  -6961.813876     0.000000   \n",
       "4      [14.094999999999988, 0.8429607892154539]  -6961.813876     0.000000   \n",
       "...                                         ...           ...          ...   \n",
       "99995  [15.766955467937883, 23.568703678686408]    237.245856   357.380175   \n",
       "99996  [15.766955467937883, 23.568703678686408]    237.245856   357.380175   \n",
       "99997  [15.766955467937883, 23.568703678686408]    237.245856   357.380175   \n",
       "99998  [26.287387279122168, 36.981957966730036]   9218.075708  1351.613718   \n",
       "99999    [36.29094747232372, 4.487596599302424]  14439.846930   834.994056   \n",
       "\n",
       "       hx  iteration      ||xi-X||      fxi - Fx  \n",
       "0       0     100000  2.850161e-14 -2.819434e-11  \n",
       "1       0      99999  2.850161e-14 -2.819434e-11  \n",
       "2       0      99998  2.850161e-14 -2.819434e-11  \n",
       "3       0      99997  2.850161e-14 -2.819434e-11  \n",
       "4       0      99996  2.850161e-14 -2.819434e-11  \n",
       "...    ..        ...           ...           ...  \n",
       "99995   0          5  2.278716e+01  7.199060e+03  \n",
       "99996   0          4  2.278716e+01  7.199060e+03  \n",
       "99997   0          3  2.278716e+01  7.199060e+03  \n",
       "99998   0          2  3.814029e+01  1.617989e+04  \n",
       "99999   0          1  2.249319e+01  2.140166e+04  \n",
       "\n",
       "[100000 rows x 7 columns]"
      ]
     },
     "execution_count": 17,
     "metadata": {},
     "output_type": "execute_result"
    }
   ],
   "source": [
    "import pandas as pd\n",
    "import numpy as np\n",
    "\n",
    "pd.DataFrame(\n",
    "    sorted([{**hist, \n",
    "             \"||xi-X||\": np.linalg.norm(np.array(hist[\"x\"]) - x_best),\n",
    "             \"fxi - Fx\": hist[\"fx\"] - fx_best} \n",
    "            for hist in differentialEvolution.history], key=lambda x: x[\"iteration\"], reverse=True)\n",
    ")"
   ]
  },
  {
   "cell_type": "code",
   "execution_count": 18,
   "id": "b064f06b-c780-48c3-9e20-f611220e72ee",
   "metadata": {},
   "outputs": [
    {
     "data": {
      "image/png": "[encoded data removed]",
      "text/plain": [
       "<Figure size 1000x1000 with 3 Axes>"
      ]
     },
     "metadata": {},
     "output_type": "display_data"
    }
   ],
   "source": [
    "from _display import display_performance_results\n",
    "\n",
    "rich_history = [{**hist, \"||xi-X||\": np.linalg.norm(np.array(hist[\"x\"]) - x_best),\n",
    "  \"fxi - Fx\": hist[\"fx\"] - fx_best} for hist in differentialEvolution.history]\n",
    "display_performance_results(rich_history)"
   ]
  },
  {
   "cell_type": "code",
   "execution_count": null,
   "id": "510fb6a3-f119-4c61-a385-a4d8e06525d6",
   "metadata": {},
   "outputs": [],
   "source": []
  }
 ],
 "metadata": {
  "kernelspec": {
   "display_name": "Python 3 (ipykernel)",
   "language": "python",
   "name": "python3"
  },
  "language_info": {
   "codemirror_mode": {
    "name": "ipython",
    "version": 3
   },
   "file_extension": ".py",
   "mimetype": "text/x-python",
   "name": "python",
   "nbconvert_exporter": "python",
   "pygments_lexer": "ipython3",
   "version": "3.8.10"
  }
 },
 "nbformat": 4,
 "nbformat_minor": 5
}

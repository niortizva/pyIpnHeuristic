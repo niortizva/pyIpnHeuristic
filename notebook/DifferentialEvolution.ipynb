{
 "cells": [
  {
   "cell_type": "markdown",
   "id": "60a7b476-82bc-4cde-8334-41f2a2612a27",
   "metadata": {},
   "source": [
    "## Differential Evolution"
   ]
  },
  {
   "cell_type": "code",
   "execution_count": 1,
   "id": "5ad29cb3-dc0a-42e2-99ae-85ea649556c7",
   "metadata": {},
   "outputs": [
    {
     "data": {
      "text/markdown": [
       "\n",
       "## Problem G06:\n",
       "\n",
       "Minimize: \n",
       "$$f(\\mathbf{x}) = (x_1 - 10)^3 + (x_2 - 20)^3$$\n",
       "subject to:\n",
       "$$g_1(\\mathbf{x}) = -(x_1-5)^2 - (x_2-5)^2 + 100 \\leq 0 $$\n",
       "$$g_2(\\mathbf{x}) = (x_1-6)^2 + (x_2-5)^2 - 82.81 \\leq 0 $$\n",
       "where: $13 \\leq x_1 \\leq 100$, $0 \\leq x_2 \\leq 100$\n"
      ]
     },
     "metadata": {},
     "output_type": "display_data"
    }
   ],
   "source": [
    "from pyIpnHeuristic.examples import get_pg06\n",
    "\n",
    "objective_function, g, h, ranges = get_pg06()"
   ]
  },
  {
   "cell_type": "markdown",
   "id": "a4a6cfdd-0ab4-40ce-bd34-9cd0e7da3e6e",
   "metadata": {},
   "source": [
    "## Initialize Differential Evolution"
   ]
  },
  {
   "cell_type": "code",
   "execution_count": 2,
   "id": "66389642-e07b-46b7-b742-e57c513be2e2",
   "metadata": {},
   "outputs": [],
   "source": [
    "from pyIpnHeuristic.differentialEvolution import DifferentialEvolution\n",
    "\n",
    "differentialEvolution = DifferentialEvolution(\n",
    "    objective_function,\n",
    "    soft_constrains=g,\n",
    "    hard_constrains=h,\n",
    "    ranges=ranges,\n",
    "    population_size=4,\n",
    "    f=10.**-2,\n",
    "    cr=0.10,\n",
    "    epsilon=10**-4,\n",
    ")\n",
    "\n",
    "differentialEvolution.search(iterations=100000, save_history=True)"
   ]
  },
  {
   "cell_type": "markdown",
   "id": "e330edd9-85cc-44a0-8424-7a338f3d6d54",
   "metadata": {},
   "source": [
    "## Results"
   ]
  },
  {
   "cell_type": "code",
   "execution_count": 3,
   "id": "6781d7bd-ddbc-4b1e-ac3b-3c3a80ac6580",
   "metadata": {},
   "outputs": [
    {
     "data": {
      "text/html": [
       "<div>\n",
       "<style scoped>\n",
       "    .dataframe tbody tr th:only-of-type {\n",
       "        vertical-align: middle;\n",
       "    }\n",
       "\n",
       "    .dataframe tbody tr th {\n",
       "        vertical-align: top;\n",
       "    }\n",
       "\n",
       "    .dataframe thead th {\n",
       "        text-align: right;\n",
       "    }\n",
       "</style>\n",
       "<table border=\"1\" class=\"dataframe\">\n",
       "  <thead>\n",
       "    <tr style=\"text-align: right;\">\n",
       "      <th></th>\n",
       "      <th>x</th>\n",
       "      <th>fx</th>\n",
       "      <th>gx</th>\n",
       "      <th>hx</th>\n",
       "      <th>iteration</th>\n",
       "    </tr>\n",
       "  </thead>\n",
       "  <tbody>\n",
       "    <tr>\n",
       "      <th>0</th>\n",
       "      <td>[38.2914435568177, 31.938401303791828]</td>\n",
       "      <td>24346.160634</td>\n",
       "      <td>1685.604792</td>\n",
       "      <td>0</td>\n",
       "      <td>100000</td>\n",
       "    </tr>\n",
       "    <tr>\n",
       "      <th>1</th>\n",
       "      <td>[38.2914435568177, 31.938401303791828]</td>\n",
       "      <td>24346.160634</td>\n",
       "      <td>1685.604792</td>\n",
       "      <td>0</td>\n",
       "      <td>99999</td>\n",
       "    </tr>\n",
       "    <tr>\n",
       "      <th>2</th>\n",
       "      <td>[38.2914435568177, 31.938401303791828]</td>\n",
       "      <td>24346.160634</td>\n",
       "      <td>1685.604792</td>\n",
       "      <td>0</td>\n",
       "      <td>99998</td>\n",
       "    </tr>\n",
       "    <tr>\n",
       "      <th>3</th>\n",
       "      <td>[38.2914435568177, 31.938401303791828]</td>\n",
       "      <td>24346.160634</td>\n",
       "      <td>1685.604792</td>\n",
       "      <td>0</td>\n",
       "      <td>99997</td>\n",
       "    </tr>\n",
       "    <tr>\n",
       "      <th>4</th>\n",
       "      <td>[38.2914435568177, 31.938401303791828]</td>\n",
       "      <td>24346.160634</td>\n",
       "      <td>1685.604792</td>\n",
       "      <td>0</td>\n",
       "      <td>99996</td>\n",
       "    </tr>\n",
       "    <tr>\n",
       "      <th>...</th>\n",
       "      <td>...</td>\n",
       "      <td>...</td>\n",
       "      <td>...</td>\n",
       "      <td>...</td>\n",
       "      <td>...</td>\n",
       "    </tr>\n",
       "    <tr>\n",
       "      <th>99995</th>\n",
       "      <td>[38.383433700553944, 31.94206279067372]</td>\n",
       "      <td>24569.334008</td>\n",
       "      <td>1691.751526</td>\n",
       "      <td>0</td>\n",
       "      <td>5</td>\n",
       "    </tr>\n",
       "    <tr>\n",
       "      <th>99996</th>\n",
       "      <td>[38.383433700553944, 31.94206279067372]</td>\n",
       "      <td>24569.334008</td>\n",
       "      <td>1691.751526</td>\n",
       "      <td>0</td>\n",
       "      <td>4</td>\n",
       "    </tr>\n",
       "    <tr>\n",
       "      <th>99997</th>\n",
       "      <td>[38.38407939574124, 32.30459162805265]</td>\n",
       "      <td>24730.754604</td>\n",
       "      <td>1711.459322</td>\n",
       "      <td>0</td>\n",
       "      <td>3</td>\n",
       "    </tr>\n",
       "    <tr>\n",
       "      <th>99998</th>\n",
       "      <td>[38.38407939574124, 32.30459162805265]</td>\n",
       "      <td>24730.754604</td>\n",
       "      <td>1711.459322</td>\n",
       "      <td>0</td>\n",
       "      <td>2</td>\n",
       "    </tr>\n",
       "    <tr>\n",
       "      <th>99999</th>\n",
       "      <td>[38.56650734347938, 38.5962382826518]</td>\n",
       "      <td>29742.517828</td>\n",
       "      <td>2106.474627</td>\n",
       "      <td>0</td>\n",
       "      <td>1</td>\n",
       "    </tr>\n",
       "  </tbody>\n",
       "</table>\n",
       "<p>100000 rows × 5 columns</p>\n",
       "</div>"
      ],
      "text/plain": [
       "                                             x            fx           gx  hx  \\\n",
       "0       [38.2914435568177, 31.938401303791828]  24346.160634  1685.604792   0   \n",
       "1       [38.2914435568177, 31.938401303791828]  24346.160634  1685.604792   0   \n",
       "2       [38.2914435568177, 31.938401303791828]  24346.160634  1685.604792   0   \n",
       "3       [38.2914435568177, 31.938401303791828]  24346.160634  1685.604792   0   \n",
       "4       [38.2914435568177, 31.938401303791828]  24346.160634  1685.604792   0   \n",
       "...                                        ...           ...          ...  ..   \n",
       "99995  [38.383433700553944, 31.94206279067372]  24569.334008  1691.751526   0   \n",
       "99996  [38.383433700553944, 31.94206279067372]  24569.334008  1691.751526   0   \n",
       "99997   [38.38407939574124, 32.30459162805265]  24730.754604  1711.459322   0   \n",
       "99998   [38.38407939574124, 32.30459162805265]  24730.754604  1711.459322   0   \n",
       "99999    [38.56650734347938, 38.5962382826518]  29742.517828  2106.474627   0   \n",
       "\n",
       "       iteration  \n",
       "0         100000  \n",
       "1          99999  \n",
       "2          99998  \n",
       "3          99997  \n",
       "4          99996  \n",
       "...          ...  \n",
       "99995          5  \n",
       "99996          4  \n",
       "99997          3  \n",
       "99998          2  \n",
       "99999          1  \n",
       "\n",
       "[100000 rows x 5 columns]"
      ]
     },
     "execution_count": 3,
     "metadata": {},
     "output_type": "execute_result"
    }
   ],
   "source": [
    "import pandas as pd\n",
    "\n",
    "pd.DataFrame(\n",
    "    sorted(differentialEvolution.history, key=lambda x: x[\"iteration\"], reverse=True)\n",
    ")"
   ]
  },
  {
   "cell_type": "code",
   "execution_count": 4,
   "id": "b064f06b-c780-48c3-9e20-f611220e72ee",
   "metadata": {},
   "outputs": [
    {
     "data": {
      "image/png": "[encoded data removed]",
      "text/plain": [
       "<Figure size 1000x500 with 1 Axes>"
      ]
     },
     "metadata": {},
     "output_type": "display_data"
    }
   ],
   "source": [
    "from _display import display_performance_results\n",
    "\n",
    "display_performance_results(differentialEvolution.history)"
   ]
  },
  {
   "cell_type": "code",
   "execution_count": null,
   "id": "510fb6a3-f119-4c61-a385-a4d8e06525d6",
   "metadata": {},
   "outputs": [],
   "source": []
  }
 ],
 "metadata": {
  "kernelspec": {
   "display_name": "Python 3 (ipykernel)",
   "language": "python",
   "name": "python3"
  },
  "language_info": {
   "codemirror_mode": {
    "name": "ipython",
    "version": 3
   },
   "file_extension": ".py",
   "mimetype": "text/x-python",
   "name": "python",
   "nbconvert_exporter": "python",
   "pygments_lexer": "ipython3",
   "version": "3.8.10"
  }
 },
 "nbformat": 4,
 "nbformat_minor": 5
}

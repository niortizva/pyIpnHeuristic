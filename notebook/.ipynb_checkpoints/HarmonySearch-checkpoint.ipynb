{
 "cells": [
  {
   "cell_type": "markdown",
   "id": "ddc80276-29e5-4f64-9762-a09e8b2b5c30",
   "metadata": {},
   "source": [
    "# Harmony Search\n",
    "\n",
    "let $\\mathbb{X}^{t}$ the population at time $t$, $f: \\mathbb{X} \\rightarrow \\mathbb{R}$ the objective function, $g_i(x) \\leq 0$ for $i=1,2,\\ldots,m_1$ the soft restrictions and $h_i(x) = 0$ for $i=1,2,\\ldots,m_2$ the hard restrictions of an optimization problem. Set $hcmr \\sim U\\left[0, 1\\right]$ and $par \\sim U\\left[0, 1\\right]$ where $U[0,1]$ is distributed uniformly. Set $\\alpha \\in [0, 1]$\n",
    "\n",
    "1. Get $w^{t}$ the worst harmony as $\\max_{x\\in \\mathbb{X}} f(x)$.\n",
    "\n",
    "2. Set $I_1, I_2 \\sim U[0,1]$ random numbers between 0 and 1.\n",
    "\n",
    "3. <br>\n",
    "&emsp; <b>IF</b> $I_1 \\leq hcmr$ <b>THEN</b>: <br>\n",
    "    &emsp;&emsp; $v_{i}^{t + 1} = U(\\mathbb{X}_i^{t})$ where $U(\\mathbb{X}_i^{t})$ is a uniform distributed random variable over the set of $i$-th variables from the population set $\\mathbb{X}^{t + 1}$. <br>\n",
    "    &emsp;&emsp; <b>IF</b> $I_2 \\leq par$ <b>THEN</b>: <br>\n",
    "        &emsp;&emsp;&emsp; $x_{i}^{t+1} = v_{i}^{t+1} + \\alpha \\cdot U[-1, 1]$ where $U[-1, 1]$ is a random variable between -1 and 1. <br>\n",
    "    &emsp;&emsp; <b>ELSE</b>: <br>\n",
    "        &emsp;&emsp;&emsp; $x_{i}^{t+1} = v_{i}^{t+1}$ <br>\n",
    "    &emsp;&emsp; <b>ENDIF</b> <br>\n",
    "&emsp; <b>ELSE</b>: <br>\n",
    "    &emsp;&emsp; $x_{i}^{t+1} = U([x_i^{sup}, x_{i}^{inf}])$ where $U([x_i^{sup}, x_{i}^{inf}])$ is a random variable between the $x_{i}$ variable range. <br>\n",
    "&emsp; <b>ENDIF</b> <br><br>\n",
    "    \n",
    "4. Select best harmony between $w^{t}$ and $x^{t+1}$ using DEB conditions. **If** $w^{t}$ is the best **then** $\\mathbb{X}^{t+1} = \\mathbb{X}^{t}$ **else** $\\mathbb{X}^{t+1} = \\mathbb{X}^{t}\\cup \\left\\lbrace x^{t+1} \\right\\rbrace - \\left\\lbrace w^{t} \\right\\rbrace$.\n",
    "\n"
   ]
  },
  {
   "cell_type": "code",
   "execution_count": 1,
   "id": "b6b04394-62f4-48ef-9dd9-bd4df6a7fa67",
   "metadata": {},
   "outputs": [
    {
     "data": {
      "text/markdown": [
       "## Problem G11:\n",
       "Minimize: \n",
       "$$f(\\mathbf{x}) = x_1^{2} + (x_{2} - 1)^{2}$$\n",
       "subject to:\n",
       "$$h_1(\\mathbf{x}) = x_2 -x_{1}^{2} \\leq 0 $$\n",
       "where: $-1 \\leq x_1 \\leq 1$, $-1 \\leq x_2 \\leq 1$"
      ]
     },
     "metadata": {},
     "output_type": "display_data"
    }
   ],
   "source": [
    "from pyIpnHeuristic.benchmark import get_pg06\n",
    "\n",
    "objective_function, g, h, ranges = get_pg11()"
   ]
  },
  {
   "cell_type": "markdown",
   "id": "911a57d7-0618-4fd0-a3a6-699e738eecc5",
   "metadata": {},
   "source": [
    "## Initialize Harmony"
   ]
  },
  {
   "cell_type": "code",
   "execution_count": 52,
   "id": "43a75d81-de74-4b53-8da2-dbbcb23673a7",
   "metadata": {},
   "outputs": [],
   "source": [
    "from pyIpnHeuristic.harmonySearch import HarmonySearch\n",
    "\n",
    "population_size = 5\n",
    "\n",
    "harmonySearch = HarmonySearch(\n",
    "    objective_function,\n",
    "    soft_constrains=g,\n",
    "    hard_constrains=h,\n",
    "    ranges=ranges,\n",
    "    population_size=population_size,\n",
    "    smooth=False,\n",
    "    epsilon=10**-4,\n",
    "    hcmr=0.50,\n",
    "    par=0.50,\n",
    "    alpha=10**-3\n",
    ")\n",
    "\n",
    "harmonySearch.search(iterations=100000, save_history=True)"
   ]
  },
  {
   "cell_type": "markdown",
   "id": "2bfaac61-bed5-450e-be03-9462e57a6891",
   "metadata": {},
   "source": [
    "## Results"
   ]
  },
  {
   "cell_type": "code",
   "execution_count": 53,
   "id": "947d560c-ef76-4a64-81e7-5a397b4537e3",
   "metadata": {},
   "outputs": [
    {
     "data": {
      "text/html": [
       "<div>\n",
       "<style scoped>\n",
       "    .dataframe tbody tr th:only-of-type {\n",
       "        vertical-align: middle;\n",
       "    }\n",
       "\n",
       "    .dataframe tbody tr th {\n",
       "        vertical-align: top;\n",
       "    }\n",
       "\n",
       "    .dataframe thead th {\n",
       "        text-align: right;\n",
       "    }\n",
       "</style>\n",
       "<table border=\"1\" class=\"dataframe\">\n",
       "  <thead>\n",
       "    <tr style=\"text-align: right;\">\n",
       "      <th></th>\n",
       "      <th>x</th>\n",
       "      <th>fx</th>\n",
       "      <th>gx</th>\n",
       "      <th>hx</th>\n",
       "      <th>iteration</th>\n",
       "    </tr>\n",
       "  </thead>\n",
       "  <tbody>\n",
       "    <tr>\n",
       "      <th>0</th>\n",
       "      <td>[-0.6326367732762312, 0.8753457154738074]</td>\n",
       "      <td>0.415768</td>\n",
       "      <td>0</td>\n",
       "      <td>0.475116</td>\n",
       "      <td>100000</td>\n",
       "    </tr>\n",
       "    <tr>\n",
       "      <th>1</th>\n",
       "      <td>[-0.6326367732762312, 0.8753457154738074]</td>\n",
       "      <td>0.415768</td>\n",
       "      <td>0</td>\n",
       "      <td>0.475116</td>\n",
       "      <td>99999</td>\n",
       "    </tr>\n",
       "    <tr>\n",
       "      <th>2</th>\n",
       "      <td>[-0.6326367732762312, 0.8753457154738074]</td>\n",
       "      <td>0.415768</td>\n",
       "      <td>0</td>\n",
       "      <td>0.475116</td>\n",
       "      <td>99998</td>\n",
       "    </tr>\n",
       "    <tr>\n",
       "      <th>3</th>\n",
       "      <td>[-0.6326367732762312, 0.8753457154738074]</td>\n",
       "      <td>0.415768</td>\n",
       "      <td>0</td>\n",
       "      <td>0.475116</td>\n",
       "      <td>99997</td>\n",
       "    </tr>\n",
       "    <tr>\n",
       "      <th>4</th>\n",
       "      <td>[-0.6326367732762312, 0.8753457154738074]</td>\n",
       "      <td>0.415768</td>\n",
       "      <td>0</td>\n",
       "      <td>0.475116</td>\n",
       "      <td>99996</td>\n",
       "    </tr>\n",
       "    <tr>\n",
       "      <th>...</th>\n",
       "      <td>...</td>\n",
       "      <td>...</td>\n",
       "      <td>...</td>\n",
       "      <td>...</td>\n",
       "      <td>...</td>\n",
       "    </tr>\n",
       "    <tr>\n",
       "      <th>99995</th>\n",
       "      <td>[-0.6326367732762312, 0.8753457154738074]</td>\n",
       "      <td>0.415768</td>\n",
       "      <td>0</td>\n",
       "      <td>0.475116</td>\n",
       "      <td>5</td>\n",
       "    </tr>\n",
       "    <tr>\n",
       "      <th>99996</th>\n",
       "      <td>[-0.6479643486108, 0.6388543640811879]</td>\n",
       "      <td>0.550284</td>\n",
       "      <td>0</td>\n",
       "      <td>0.218997</td>\n",
       "      <td>4</td>\n",
       "    </tr>\n",
       "    <tr>\n",
       "      <th>99997</th>\n",
       "      <td>[-0.6479643486108, 0.6388543640811879]</td>\n",
       "      <td>0.550284</td>\n",
       "      <td>0</td>\n",
       "      <td>0.218997</td>\n",
       "      <td>3</td>\n",
       "    </tr>\n",
       "    <tr>\n",
       "      <th>99998</th>\n",
       "      <td>[-0.6479643486108, 0.6388543640811879]</td>\n",
       "      <td>0.550284</td>\n",
       "      <td>0</td>\n",
       "      <td>0.218997</td>\n",
       "      <td>2</td>\n",
       "    </tr>\n",
       "    <tr>\n",
       "      <th>99999</th>\n",
       "      <td>[-0.6536843955020037, 0.21472857683039392]</td>\n",
       "      <td>1.043954</td>\n",
       "      <td>0</td>\n",
       "      <td>0.212575</td>\n",
       "      <td>1</td>\n",
       "    </tr>\n",
       "  </tbody>\n",
       "</table>\n",
       "<p>100000 rows × 5 columns</p>\n",
       "</div>"
      ],
      "text/plain": [
       "                                                x        fx  gx        hx  \\\n",
       "0       [-0.6326367732762312, 0.8753457154738074]  0.415768   0  0.475116   \n",
       "1       [-0.6326367732762312, 0.8753457154738074]  0.415768   0  0.475116   \n",
       "2       [-0.6326367732762312, 0.8753457154738074]  0.415768   0  0.475116   \n",
       "3       [-0.6326367732762312, 0.8753457154738074]  0.415768   0  0.475116   \n",
       "4       [-0.6326367732762312, 0.8753457154738074]  0.415768   0  0.475116   \n",
       "...                                           ...       ...  ..       ...   \n",
       "99995   [-0.6326367732762312, 0.8753457154738074]  0.415768   0  0.475116   \n",
       "99996      [-0.6479643486108, 0.6388543640811879]  0.550284   0  0.218997   \n",
       "99997      [-0.6479643486108, 0.6388543640811879]  0.550284   0  0.218997   \n",
       "99998      [-0.6479643486108, 0.6388543640811879]  0.550284   0  0.218997   \n",
       "99999  [-0.6536843955020037, 0.21472857683039392]  1.043954   0  0.212575   \n",
       "\n",
       "       iteration  \n",
       "0         100000  \n",
       "1          99999  \n",
       "2          99998  \n",
       "3          99997  \n",
       "4          99996  \n",
       "...          ...  \n",
       "99995          5  \n",
       "99996          4  \n",
       "99997          3  \n",
       "99998          2  \n",
       "99999          1  \n",
       "\n",
       "[100000 rows x 5 columns]"
      ]
     },
     "execution_count": 53,
     "metadata": {},
     "output_type": "execute_result"
    }
   ],
   "source": [
    "import pandas as pd\n",
    "\n",
    "pd.DataFrame(\n",
    "    sorted(harmonySearch.history, key=lambda x: x[\"iteration\"], reverse=True)\n",
    ")"
   ]
  },
  {
   "cell_type": "code",
   "execution_count": 54,
   "id": "45a94afe-f943-459f-94eb-b36f29bb429e",
   "metadata": {},
   "outputs": [
    {
     "data": {
      "image/png": "[encoded data removed]",
      "text/plain": [
       "<Figure size 1000x500 with 1 Axes>"
      ]
     },
     "metadata": {},
     "output_type": "display_data"
    }
   ],
   "source": [
    "from _display import display_performance_results\n",
    "\n",
    "display_performance_results(harmonySearch.history)"
   ]
  },
  {
   "cell_type": "code",
   "execution_count": null,
   "id": "f9de2abb-b7c4-4158-9e80-4d8fafc8fb5f",
   "metadata": {},
   "outputs": [],
   "source": []
  }
 ],
 "metadata": {
  "kernelspec": {
   "display_name": "Python 3 (ipykernel)",
   "language": "python",
   "name": "python3"
  },
  "language_info": {
   "codemirror_mode": {
    "name": "ipython",
    "version": 3
   },
   "file_extension": ".py",
   "mimetype": "text/x-python",
   "name": "python",
   "nbconvert_exporter": "python",
   "pygments_lexer": "ipython3",
   "version": "3.8.10"
  },
  "toc-autonumbering": false
 },
 "nbformat": 4,
 "nbformat_minor": 5
}

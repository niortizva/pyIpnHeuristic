{
 "cells": [
  {
   "cell_type": "markdown",
   "id": "60a7b476-82bc-4cde-8334-41f2a2612a27",
   "metadata": {},
   "source": [
    "## Differential Evolution"
   ]
  },
  {
   "cell_type": "code",
   "execution_count": 3,
   "id": "5ad29cb3-dc0a-42e2-99ae-85ea649556c7",
   "metadata": {},
   "outputs": [
    {
     "data": {
      "text/markdown": [
       "## Problem G06:\n",
       "Minimize: \n",
       "$$f(\\mathbf{x}) = (x_1 - 10)^3 + (x_2 - 20)^3$$\n",
       "subject to:\n",
       "$$g_1(\\mathbf{x}) = -(x_1-5)^2 - (x_2-5)^2 + 100 \\leq 0 $$\n",
       "$$g_2(\\mathbf{x}) = (x_1-6)^2 + (x_2-5)^2 - 82.81 \\leq 0 $$\n",
       "where: $13 \\leq x_1 \\leq 100$, $0 \\leq x_2 \\leq 100$"
      ]
     },
     "metadata": {},
     "output_type": "display_data"
    }
   ],
   "source": [
    "from IPython.display import display_markdown\n",
    "from pyIpnHeuristic.benchmark import get_pg06\n",
    "\n",
    "problem_parameters = get_pg06()\n",
    "\n",
    "objective_function = problem_parameters.get(\"objective_function\")\n",
    "g = problem_parameters.get(\"gx\")\n",
    "h = problem_parameters.get(\"hx\")\n",
    "ranges = problem_parameters.get(\"ranges\")\n",
    "markdown = problem_parameters.get(\"markdown\")\n",
    "x_best = problem_parameters.get(\"x\")\n",
    "fx_best = problem_parameters.get(\"fx\")\n",
    "\n",
    "display_markdown(markdown, raw=True)"
   ]
  },
  {
   "cell_type": "markdown",
   "id": "a4a6cfdd-0ab4-40ce-bd34-9cd0e7da3e6e",
   "metadata": {},
   "source": [
    "## Initialize Differential Evolution"
   ]
  },
  {
   "cell_type": "code",
   "execution_count": 6,
   "id": "66389642-e07b-46b7-b742-e57c513be2e2",
   "metadata": {},
   "outputs": [],
   "source": [
    "from pyIpnHeuristic.differentialEvolution import DifferentialEvolution\n",
    "\n",
    "differentialEvolution = DifferentialEvolution(\n",
    "    objective_function,\n",
    "    soft_constrains=g,\n",
    "    hard_constrains=h,\n",
    "    ranges=ranges,\n",
    "    population_size=4,\n",
    "    smooth=False\n",
    "    epsilon=10**-4,\n",
    "    f=10.**-2,\n",
    "    cr=0.10,\n",
    ")\n",
    "\n",
    "differentialEvolution.search(iterations=100000, save_history=True)"
   ]
  },
  {
   "cell_type": "markdown",
   "id": "e330edd9-85cc-44a0-8424-7a338f3d6d54",
   "metadata": {},
   "source": [
    "## Results"
   ]
  },
  {
   "cell_type": "code",
   "execution_count": 7,
   "id": "6781d7bd-ddbc-4b1e-ac3b-3c3a80ac6580",
   "metadata": {},
   "outputs": [
    {
     "data": {
      "text/html": [
       "<div>\n",
       "<style scoped>\n",
       "    .dataframe tbody tr th:only-of-type {\n",
       "        vertical-align: middle;\n",
       "    }\n",
       "\n",
       "    .dataframe tbody tr th {\n",
       "        vertical-align: top;\n",
       "    }\n",
       "\n",
       "    .dataframe thead th {\n",
       "        text-align: right;\n",
       "    }\n",
       "</style>\n",
       "<table border=\"1\" class=\"dataframe\">\n",
       "  <thead>\n",
       "    <tr style=\"text-align: right;\">\n",
       "      <th></th>\n",
       "      <th>x</th>\n",
       "      <th>fx</th>\n",
       "      <th>gx</th>\n",
       "      <th>hx</th>\n",
       "      <th>iteration</th>\n",
       "    </tr>\n",
       "  </thead>\n",
       "  <tbody>\n",
       "    <tr>\n",
       "      <th>0</th>\n",
       "      <td>[0.8302265715627188, 0.5929068682857631, 0.912...</td>\n",
       "      <td>-121.320576</td>\n",
       "      <td>423.345867</td>\n",
       "      <td>0</td>\n",
       "      <td>100000</td>\n",
       "    </tr>\n",
       "    <tr>\n",
       "      <th>1</th>\n",
       "      <td>[0.8302265715627188, 0.5929068682857631, 0.912...</td>\n",
       "      <td>-121.320576</td>\n",
       "      <td>423.345867</td>\n",
       "      <td>0</td>\n",
       "      <td>99999</td>\n",
       "    </tr>\n",
       "    <tr>\n",
       "      <th>2</th>\n",
       "      <td>[0.8302265715627188, 0.5929068682857631, 0.912...</td>\n",
       "      <td>-121.320576</td>\n",
       "      <td>423.345867</td>\n",
       "      <td>0</td>\n",
       "      <td>99998</td>\n",
       "    </tr>\n",
       "    <tr>\n",
       "      <th>3</th>\n",
       "      <td>[0.8302265715627188, 0.5929068682857631, 0.912...</td>\n",
       "      <td>-121.320576</td>\n",
       "      <td>423.345867</td>\n",
       "      <td>0</td>\n",
       "      <td>99997</td>\n",
       "    </tr>\n",
       "    <tr>\n",
       "      <th>4</th>\n",
       "      <td>[0.8302265715627188, 0.5929068682857631, 0.912...</td>\n",
       "      <td>-121.320576</td>\n",
       "      <td>423.345867</td>\n",
       "      <td>0</td>\n",
       "      <td>99996</td>\n",
       "    </tr>\n",
       "    <tr>\n",
       "      <th>...</th>\n",
       "      <td>...</td>\n",
       "      <td>...</td>\n",
       "      <td>...</td>\n",
       "      <td>...</td>\n",
       "      <td>...</td>\n",
       "    </tr>\n",
       "    <tr>\n",
       "      <th>99995</th>\n",
       "      <td>[0.8288093941700523, 0.5897528585936376, 0.912...</td>\n",
       "      <td>-164.931184</td>\n",
       "      <td>603.774420</td>\n",
       "      <td>0</td>\n",
       "      <td>5</td>\n",
       "    </tr>\n",
       "    <tr>\n",
       "      <th>99996</th>\n",
       "      <td>[0.8288093941700523, 0.2693231864964961, 0.912...</td>\n",
       "      <td>-164.931184</td>\n",
       "      <td>605.056138</td>\n",
       "      <td>0</td>\n",
       "      <td>4</td>\n",
       "    </tr>\n",
       "    <tr>\n",
       "      <th>99997</th>\n",
       "      <td>[0.8288093941700523, 0.2693231864964961, 0.912...</td>\n",
       "      <td>-164.931184</td>\n",
       "      <td>605.056138</td>\n",
       "      <td>0</td>\n",
       "      <td>3</td>\n",
       "    </tr>\n",
       "    <tr>\n",
       "      <th>99998</th>\n",
       "      <td>[0.3661959236789467, 0.2693231864964961, 0.912...</td>\n",
       "      <td>-164.931184</td>\n",
       "      <td>606.906592</td>\n",
       "      <td>0</td>\n",
       "      <td>2</td>\n",
       "    </tr>\n",
       "    <tr>\n",
       "      <th>99999</th>\n",
       "      <td>[0.3661959236789467, 0.2693231864964961, 0.912...</td>\n",
       "      <td>-164.931184</td>\n",
       "      <td>606.906592</td>\n",
       "      <td>0</td>\n",
       "      <td>1</td>\n",
       "    </tr>\n",
       "  </tbody>\n",
       "</table>\n",
       "<p>100000 rows × 5 columns</p>\n",
       "</div>"
      ],
      "text/plain": [
       "                                                       x          fx  \\\n",
       "0      [0.8302265715627188, 0.5929068682857631, 0.912... -121.320576   \n",
       "1      [0.8302265715627188, 0.5929068682857631, 0.912... -121.320576   \n",
       "2      [0.8302265715627188, 0.5929068682857631, 0.912... -121.320576   \n",
       "3      [0.8302265715627188, 0.5929068682857631, 0.912... -121.320576   \n",
       "4      [0.8302265715627188, 0.5929068682857631, 0.912... -121.320576   \n",
       "...                                                  ...         ...   \n",
       "99995  [0.8288093941700523, 0.5897528585936376, 0.912... -164.931184   \n",
       "99996  [0.8288093941700523, 0.2693231864964961, 0.912... -164.931184   \n",
       "99997  [0.8288093941700523, 0.2693231864964961, 0.912... -164.931184   \n",
       "99998  [0.3661959236789467, 0.2693231864964961, 0.912... -164.931184   \n",
       "99999  [0.3661959236789467, 0.2693231864964961, 0.912... -164.931184   \n",
       "\n",
       "               gx  hx  iteration  \n",
       "0      423.345867   0     100000  \n",
       "1      423.345867   0      99999  \n",
       "2      423.345867   0      99998  \n",
       "3      423.345867   0      99997  \n",
       "4      423.345867   0      99996  \n",
       "...           ...  ..        ...  \n",
       "99995  603.774420   0          5  \n",
       "99996  605.056138   0          4  \n",
       "99997  605.056138   0          3  \n",
       "99998  606.906592   0          2  \n",
       "99999  606.906592   0          1  \n",
       "\n",
       "[100000 rows x 5 columns]"
      ]
     },
     "execution_count": 7,
     "metadata": {},
     "output_type": "execute_result"
    }
   ],
   "source": [
    "import pandas as pd\n",
    "\n",
    "pd.DataFrame(\n",
    "    sorted(differentialEvolution.history, key=lambda x: x[\"iteration\"], reverse=True)\n",
    ")"
   ]
  },
  {
   "cell_type": "code",
   "execution_count": 8,
   "id": "b064f06b-c780-48c3-9e20-f611220e72ee",
   "metadata": {},
   "outputs": [
    {
     "data": {
      "image/png": "[encoded data removed]",
      "text/plain": [
       "<Figure size 1000x500 with 1 Axes>"
      ]
     },
     "metadata": {},
     "output_type": "display_data"
    }
   ],
   "source": [
    "from _display import display_performance_results\n",
    "\n",
    "display_performance_results(differentialEvolution.history)"
   ]
  },
  {
   "cell_type": "code",
   "execution_count": null,
   "id": "510fb6a3-f119-4c61-a385-a4d8e06525d6",
   "metadata": {},
   "outputs": [],
   "source": []
  }
 ],
 "metadata": {
  "kernelspec": {
   "display_name": "Python 3 (ipykernel)",
   "language": "python",
   "name": "python3"
  },
  "language_info": {
   "codemirror_mode": {
    "name": "ipython",
    "version": 3
   },
   "file_extension": ".py",
   "mimetype": "text/x-python",
   "name": "python",
   "nbconvert_exporter": "python",
   "pygments_lexer": "ipython3",
   "version": "3.8.10"
  }
 },
 "nbformat": 4,
 "nbformat_minor": 5
}

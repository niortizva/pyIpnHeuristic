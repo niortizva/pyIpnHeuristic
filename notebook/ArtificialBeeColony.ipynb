{
 "cells": [
  {
   "cell_type": "markdown",
   "id": "ddc80276-29e5-4f64-9762-a09e8b2b5c30",
   "metadata": {},
   "source": [
    "# Artificial Bee Colony\n",
    "\n",
    "let $\\mathbb{X}^{t} = \\left\\lbrace \\mathbf{x}_1^{t},\\ldots,\\mathbf{x}_n^{t} \\right\\rbrace$ the population at time $t$, $f: \\mathbb{X} \\rightarrow \\mathbb{R}$ the objective function, $g_i(x) \\leq 0$ for $i=1,2,\\ldots,m_1$ the soft restrictions and $h_i(x) = 0$ for $i=1,2,\\ldots,m_2$ the hard restrictions of an optimization problem. Initialize the velocity for each particle as $\\mathbf{v}_{i,j}^{0} = U\\left[ - \\left|\\sup \\mathbf{x}_{(\\cdot,j)} - \\inf \\mathbf{x}_{(\\cdot,j)}\\right|, \\left| \\sup \\mathbf{x}_{(\\cdot,j)} - \\inf \\mathbf{x}_{(\\cdot,j)} \\right| \\right]$. Set $\\omega, c_1, c_2 \\in [0, 1]$."
   ]
  },
  {
   "cell_type": "code",
   "execution_count": 1,
   "id": "b6b04394-62f4-48ef-9dd9-bd4df6a7fa67",
   "metadata": {},
   "outputs": [
    {
     "data": {
      "text/markdown": [
       "## Problem G06:\n",
       "Minimize: \n",
       "$$f(\\mathbf{x}) = (x_1 - 10)^3 + (x_2 - 20)^3$$\n",
       "subject to:\n",
       "$$g_1(\\mathbf{x}) = -(x_1-5)^2 - (x_2-5)^2 + 100 \\leq 0 $$\n",
       "$$g_2(\\mathbf{x}) = (x_1-6)^2 + (x_2-5)^2 - 82.81 \\leq 0 $$\n",
       "where: $13 \\leq x_1 \\leq 100$, $0 \\leq x_2 \\leq 100$"
      ]
     },
     "metadata": {},
     "output_type": "display_data"
    },
    {
     "data": {
      "text/markdown": [
       "$\\mathbf{x}_{best}$: [14.095, 0.8429607892154796], $f(\\mathbf{x}_{best})$: -6961.813875580138, ranges: [[13, 100], [0, 100]]"
      ]
     },
     "metadata": {},
     "output_type": "display_data"
    }
   ],
   "source": [
    "from IPython.display import display_markdown\n",
    "from pyIpnHeuristic.benchmark import get_pg06\n",
    "\n",
    "problem_parameters = get_pg06()\n",
    "\n",
    "objective_function = problem_parameters.get(\"objective_function\")\n",
    "g = problem_parameters.get(\"gx\")\n",
    "h = problem_parameters.get(\"hx\")\n",
    "ranges = problem_parameters.get(\"ranges\")\n",
    "markdown = problem_parameters.get(\"markdown\")\n",
    "x_best = problem_parameters.get(\"x\")\n",
    "fx_best = problem_parameters.get(\"fx\")\n",
    "\n",
    "display_markdown(markdown, raw=True)\n",
    "display_markdown(\"$\\mathbf{{x}}_{{best}}$: {}, $f(\\mathbf{{x}}_{{best}})$: {}, ranges: {}\".format(x_best, fx_best, ranges), raw=True)"
   ]
  },
  {
   "cell_type": "markdown",
   "id": "911a57d7-0618-4fd0-a3a6-699e738eecc5",
   "metadata": {},
   "source": [
    "## Initialize Artificial Bee Colony (ABC)"
   ]
  },
  {
   "cell_type": "code",
   "execution_count": 2,
   "id": "43a75d81-de74-4b53-8da2-dbbcb23673a7",
   "metadata": {},
   "outputs": [],
   "source": [
    "from pyIpnHeuristic.artificialBeeColony import ArtificialBeeColony\n",
    "\n",
    "population_size = 5\n",
    "\n",
    "artificialBeeColony = ArtificialBeeColony(\n",
    "    objective_function,\n",
    "    soft_constrains=g,\n",
    "    hard_constrains=h,\n",
    "    ranges=ranges,\n",
    "    population_size=population_size,\n",
    "    smooth=False,\n",
    "    mr=0.3,\n",
    "    max_trials=3,\n",
    "    epsilon=10 ** -4,\n",
    ")\n",
    "\n",
    "artificialBeeColony.search(iterations=100000, save_history=True)"
   ]
  },
  {
   "cell_type": "markdown",
   "id": "2bfaac61-bed5-450e-be03-9462e57a6891",
   "metadata": {},
   "source": [
    "## Results"
   ]
  },
  {
   "cell_type": "code",
   "execution_count": 3,
   "id": "947d560c-ef76-4a64-81e7-5a397b4537e3",
   "metadata": {},
   "outputs": [
    {
     "data": {
      "text/html": [
       "<div>\n",
       "<style scoped>\n",
       "    .dataframe tbody tr th:only-of-type {\n",
       "        vertical-align: middle;\n",
       "    }\n",
       "\n",
       "    .dataframe tbody tr th {\n",
       "        vertical-align: top;\n",
       "    }\n",
       "\n",
       "    .dataframe thead th {\n",
       "        text-align: right;\n",
       "    }\n",
       "</style>\n",
       "<table border=\"1\" class=\"dataframe\">\n",
       "  <thead>\n",
       "    <tr style=\"text-align: right;\">\n",
       "      <th></th>\n",
       "      <th>x</th>\n",
       "      <th>fx</th>\n",
       "      <th>gx</th>\n",
       "      <th>hx</th>\n",
       "      <th>trials</th>\n",
       "      <th>iteration</th>\n",
       "      <th>||xi-X||</th>\n",
       "      <th>fxi - Fx</th>\n",
       "    </tr>\n",
       "  </thead>\n",
       "  <tbody>\n",
       "    <tr>\n",
       "      <th>0</th>\n",
       "      <td>[14.989659187577708, 4.54534194783053]</td>\n",
       "      <td>-3567.064255</td>\n",
       "      <td>0.000000</td>\n",
       "      <td>0</td>\n",
       "      <td>2</td>\n",
       "      <td>100000</td>\n",
       "      <td>3.808942</td>\n",
       "      <td>3394.749621</td>\n",
       "    </tr>\n",
       "    <tr>\n",
       "      <th>1</th>\n",
       "      <td>[14.989659187577708, 4.54534194783053]</td>\n",
       "      <td>-3567.064255</td>\n",
       "      <td>0.000000</td>\n",
       "      <td>0</td>\n",
       "      <td>0</td>\n",
       "      <td>99999</td>\n",
       "      <td>3.808942</td>\n",
       "      <td>3394.749621</td>\n",
       "    </tr>\n",
       "    <tr>\n",
       "      <th>2</th>\n",
       "      <td>[14.989659187577708, 4.54534194783053]</td>\n",
       "      <td>-3567.064255</td>\n",
       "      <td>0.000000</td>\n",
       "      <td>0</td>\n",
       "      <td>2</td>\n",
       "      <td>99998</td>\n",
       "      <td>3.808942</td>\n",
       "      <td>3394.749621</td>\n",
       "    </tr>\n",
       "    <tr>\n",
       "      <th>3</th>\n",
       "      <td>[14.989659187577708, 4.54534194783053]</td>\n",
       "      <td>-3567.064255</td>\n",
       "      <td>0.000000</td>\n",
       "      <td>0</td>\n",
       "      <td>0</td>\n",
       "      <td>99997</td>\n",
       "      <td>3.808942</td>\n",
       "      <td>3394.749621</td>\n",
       "    </tr>\n",
       "    <tr>\n",
       "      <th>4</th>\n",
       "      <td>[14.989659187577708, 4.54534194783053]</td>\n",
       "      <td>-3567.064255</td>\n",
       "      <td>0.000000</td>\n",
       "      <td>0</td>\n",
       "      <td>2</td>\n",
       "      <td>99996</td>\n",
       "      <td>3.808942</td>\n",
       "      <td>3394.749621</td>\n",
       "    </tr>\n",
       "    <tr>\n",
       "      <th>...</th>\n",
       "      <td>...</td>\n",
       "      <td>...</td>\n",
       "      <td>...</td>\n",
       "      <td>...</td>\n",
       "      <td>...</td>\n",
       "      <td>...</td>\n",
       "      <td>...</td>\n",
       "      <td>...</td>\n",
       "    </tr>\n",
       "    <tr>\n",
       "      <th>99995</th>\n",
       "      <td>[20.4740915009489, 5.70921211358393]</td>\n",
       "      <td>-1769.482394</td>\n",
       "      <td>127.192307</td>\n",
       "      <td>0</td>\n",
       "      <td>1</td>\n",
       "      <td>5</td>\n",
       "      <td>8.023292</td>\n",
       "      <td>5192.331482</td>\n",
       "    </tr>\n",
       "    <tr>\n",
       "      <th>99996</th>\n",
       "      <td>[20.4740915009489, 3.0438422037334822]</td>\n",
       "      <td>-3726.009863</td>\n",
       "      <td>130.515878</td>\n",
       "      <td>0</td>\n",
       "      <td>2</td>\n",
       "      <td>4</td>\n",
       "      <td>6.748088</td>\n",
       "      <td>3235.804012</td>\n",
       "    </tr>\n",
       "    <tr>\n",
       "      <th>99997</th>\n",
       "      <td>[20.4740915009489, 3.0438422037334822]</td>\n",
       "      <td>-3726.009863</td>\n",
       "      <td>130.515878</td>\n",
       "      <td>0</td>\n",
       "      <td>0</td>\n",
       "      <td>3</td>\n",
       "      <td>6.748088</td>\n",
       "      <td>3235.804012</td>\n",
       "    </tr>\n",
       "    <tr>\n",
       "      <th>99998</th>\n",
       "      <td>[20.4740915009489, 3.0438422037334822]</td>\n",
       "      <td>-3726.009863</td>\n",
       "      <td>130.515878</td>\n",
       "      <td>0</td>\n",
       "      <td>2</td>\n",
       "      <td>2</td>\n",
       "      <td>6.748088</td>\n",
       "      <td>3235.804012</td>\n",
       "    </tr>\n",
       "    <tr>\n",
       "      <th>99999</th>\n",
       "      <td>[20.4740915009489, 3.0438422037334822]</td>\n",
       "      <td>-3726.009863</td>\n",
       "      <td>130.515878</td>\n",
       "      <td>0</td>\n",
       "      <td>0</td>\n",
       "      <td>1</td>\n",
       "      <td>6.748088</td>\n",
       "      <td>3235.804012</td>\n",
       "    </tr>\n",
       "  </tbody>\n",
       "</table>\n",
       "<p>100000 rows × 8 columns</p>\n",
       "</div>"
      ],
      "text/plain": [
       "                                            x           fx          gx  hx  \\\n",
       "0      [14.989659187577708, 4.54534194783053] -3567.064255    0.000000   0   \n",
       "1      [14.989659187577708, 4.54534194783053] -3567.064255    0.000000   0   \n",
       "2      [14.989659187577708, 4.54534194783053] -3567.064255    0.000000   0   \n",
       "3      [14.989659187577708, 4.54534194783053] -3567.064255    0.000000   0   \n",
       "4      [14.989659187577708, 4.54534194783053] -3567.064255    0.000000   0   \n",
       "...                                       ...          ...         ...  ..   \n",
       "99995    [20.4740915009489, 5.70921211358393] -1769.482394  127.192307   0   \n",
       "99996  [20.4740915009489, 3.0438422037334822] -3726.009863  130.515878   0   \n",
       "99997  [20.4740915009489, 3.0438422037334822] -3726.009863  130.515878   0   \n",
       "99998  [20.4740915009489, 3.0438422037334822] -3726.009863  130.515878   0   \n",
       "99999  [20.4740915009489, 3.0438422037334822] -3726.009863  130.515878   0   \n",
       "\n",
       "       trials  iteration  ||xi-X||     fxi - Fx  \n",
       "0           2     100000  3.808942  3394.749621  \n",
       "1           0      99999  3.808942  3394.749621  \n",
       "2           2      99998  3.808942  3394.749621  \n",
       "3           0      99997  3.808942  3394.749621  \n",
       "4           2      99996  3.808942  3394.749621  \n",
       "...       ...        ...       ...          ...  \n",
       "99995       1          5  8.023292  5192.331482  \n",
       "99996       2          4  6.748088  3235.804012  \n",
       "99997       0          3  6.748088  3235.804012  \n",
       "99998       2          2  6.748088  3235.804012  \n",
       "99999       0          1  6.748088  3235.804012  \n",
       "\n",
       "[100000 rows x 8 columns]"
      ]
     },
     "execution_count": 3,
     "metadata": {},
     "output_type": "execute_result"
    }
   ],
   "source": [
    "import pandas as pd\n",
    "import numpy as np\n",
    "\n",
    "pd.DataFrame(\n",
    "    sorted([{**hist, \n",
    "             \"||xi-X||\": np.linalg.norm(np.array(hist[\"x\"]) - x_best),\n",
    "             \"fxi - Fx\": hist[\"fx\"] - fx_best} \n",
    "            for hist in artificialBeeColony.history], key=lambda x: x[\"iteration\"], reverse=True)\n",
    ")"
   ]
  },
  {
   "cell_type": "code",
   "execution_count": 4,
   "id": "45a94afe-f943-459f-94eb-b36f29bb429e",
   "metadata": {},
   "outputs": [
    {
     "data": {
      "image/png": "[encoded data removed]",
      "text/plain": [
       "<Figure size 1000x1000 with 3 Axes>"
      ]
     },
     "metadata": {},
     "output_type": "display_data"
    }
   ],
   "source": [
    "from _display import display_performance_results\n",
    "\n",
    "rich_history = [{**hist, \"||xi-X||\": np.linalg.norm(np.array(hist[\"x\"]) - x_best),\n",
    "  \"fxi - Fx\": hist[\"fx\"] - fx_best} for hist in artificialBeeColony.history]\n",
    "display_performance_results(rich_history)"
   ]
  },
  {
   "cell_type": "code",
   "execution_count": null,
   "id": "af9226c0-eab1-4d55-88e8-e10f0ee1d82a",
   "metadata": {},
   "outputs": [],
   "source": []
  }
 ],
 "metadata": {
  "kernelspec": {
   "display_name": "Python 3 (ipykernel)",
   "language": "python",
   "name": "python3"
  },
  "language_info": {
   "codemirror_mode": {
    "name": "ipython",
    "version": 3
   },
   "file_extension": ".py",
   "mimetype": "text/x-python",
   "name": "python",
   "nbconvert_exporter": "python",
   "pygments_lexer": "ipython3",
   "version": "3.8.10"
  },
  "toc-autonumbering": false
 },
 "nbformat": 4,
 "nbformat_minor": 5
}
